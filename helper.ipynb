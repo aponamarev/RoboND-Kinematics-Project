{
 "cells": [
  {
   "cell_type": "markdown",
   "metadata": {},
   "source": [
    "# Introduction\n",
    "\n",
    "This file illustrates the process of creation of DH homogenious transformation matrices"
   ]
  },
  {
   "cell_type": "code",
   "execution_count": 20,
   "metadata": {},
   "outputs": [],
   "source": [
    "from sympy import init_session, symbols, sin, cos, Matrix, pi, trigsimp"
   ]
  },
  {
   "cell_type": "markdown",
   "metadata": {},
   "source": [
    "# 2. Denavit-Hartenberg (DH) Parameters Derivation\n",
    "\n",
    "### Create mathematical symbols"
   ]
  },
  {
   "cell_type": "code",
   "execution_count": 2,
   "metadata": {},
   "outputs": [],
   "source": [
    "q1, q2, q3, q4, q5, q6, q7 = symbols('q1:8')\n",
    "d1, d2, d3, d4, d5, d6, d7 = symbols('d1:8')\n",
    "a0, a1, a2, a3, a4, a5, a6 = symbols('a0:7')\n",
    "alpha0, alpha1, alpha2, alpha3, alpha4, alpha5, alpha6 = symbols('alpha0:7')"
   ]
  },
  {
   "cell_type": "markdown",
   "metadata": {},
   "source": [
    "### Create Generalized form of DH homogenious transform matrix\n",
    "Generalize DH homogenious transform matrix is based on [Udacity Forward Kinematics Class](https://classroom.udacity.com/nanodegrees/nd209/parts/c199593e-1e9a-4830-8e29-2c86f70f489e/modules/undefined/lessons/87c52cd9-09ba-4414-bc30-24ae18277d24/concepts/c0837700-3de6-4c41-8a5d-1e25936e0cdb)\n",
    "![DH homogenious transform matrix](supporting_images/generic_dh_tf.png)"
   ]
  },
  {
   "cell_type": "code",
   "execution_count": 3,
   "metadata": {},
   "outputs": [],
   "source": [
    "def tf_matrix(alpha, a, d, q):\n",
    "  # Creates a transformation matrix based yaw, pitch, roll rotations\n",
    "  # for around x, y, z rotations\n",
    "  tf = Matrix([\n",
    "    [cos(q), -sin(q), 0, a],\n",
    "    [sin(q) * cos(alpha), cos(q) * cos(alpha), -sin(alpha), -sin(alpha) * d],\n",
    "    [sin(q) * sin(alpha), cos(q) * sin(alpha), cos(alpha), cos(alpha) * d],\n",
    "    [0, 0, 0, 1]\n",
    "  ])\n",
    "  return tf"
   ]
  },
  {
   "cell_type": "markdown",
   "metadata": {},
   "source": [
    "### Create table of DH parameters"
   ]
  },
  {
   "cell_type": "code",
   "execution_count": 4,
   "metadata": {},
   "outputs": [],
   "source": [
    "dh_table = {\n",
    "  alpha0:     0,  a0:        0, d1:  0.75, q1: q1,\n",
    "  alpha1: -pi/2,  a1:     0.35, d2:     0, q2: q2-pi/2,\n",
    "  alpha2:     0,  a2:     1.25, d3:     0, q3: q3,\n",
    "  alpha3: -pi/2,  a3:   -0.054, d4:   1.5, q4: q4,\n",
    "  alpha4:  pi/2,  a4:        0, d5:     0, q5: q5,\n",
    "  alpha5: -pi/2,  a5:        0, d6:     0, q6: q6,\n",
    "  alpha6:     0,  a6:        0, d7: 0.303, q7:   0\n",
    "}"
   ]
  },
  {
   "cell_type": "markdown",
   "metadata": {},
   "source": [
    "### Create transformation matrices for each joint and a homogeneous transform matrix from base_link to gripper_link"
   ]
  },
  {
   "cell_type": "code",
   "execution_count": 10,
   "metadata": {},
   "outputs": [
    {
     "data": {
      "text/plain": [
       "Matrix([\n",
       "[1, 0, 0,     0],\n",
       "[0, 1, 0,     0],\n",
       "[0, 0, 1, 0.303],\n",
       "[0, 0, 0,     1]])"
      ]
     },
     "execution_count": 10,
     "metadata": {},
     "output_type": "execute_result"
    }
   ],
   "source": [
    "t01     = tf_matrix(alpha0, a0, d1, q1).subs(dh_table)\n",
    "t01"
   ]
  },
  {
   "cell_type": "code",
   "execution_count": 9,
   "metadata": {},
   "outputs": [
    {
     "data": {
      "text/plain": [
       "Matrix([\n",
       "[sin(q2),  cos(q2), 0, 0.35],\n",
       "[      0,        0, 1,    0],\n",
       "[cos(q2), -sin(q2), 0,    0],\n",
       "[      0,        0, 0,    1]])"
      ]
     },
     "execution_count": 9,
     "metadata": {},
     "output_type": "execute_result"
    }
   ],
   "source": [
    "t12     = tf_matrix(alpha1, a1, d2, q2).subs(dh_table)\n",
    "t12"
   ]
  },
  {
   "cell_type": "code",
   "execution_count": 12,
   "metadata": {},
   "outputs": [
    {
     "data": {
      "text/plain": [
       "Matrix([\n",
       "[cos(q3), -sin(q3), 0, 1.25],\n",
       "[sin(q3),  cos(q3), 0,    0],\n",
       "[      0,        0, 1,    0],\n",
       "[      0,        0, 0,    1]])"
      ]
     },
     "execution_count": 12,
     "metadata": {},
     "output_type": "execute_result"
    }
   ],
   "source": [
    "t23     = tf_matrix(alpha2, a2, d3, q3).subs(dh_table)\n",
    "t23"
   ]
  },
  {
   "cell_type": "code",
   "execution_count": 13,
   "metadata": {},
   "outputs": [
    {
     "data": {
      "text/plain": [
       "Matrix([\n",
       "[ cos(q4), -sin(q4), 0, -0.054],\n",
       "[       0,        0, 1,    1.5],\n",
       "[-sin(q4), -cos(q4), 0,      0],\n",
       "[       0,        0, 0,      1]])"
      ]
     },
     "execution_count": 13,
     "metadata": {},
     "output_type": "execute_result"
    }
   ],
   "source": [
    "t34     = tf_matrix(alpha3, a3, d4, q4).subs(dh_table)\n",
    "t34"
   ]
  },
  {
   "cell_type": "code",
   "execution_count": 14,
   "metadata": {},
   "outputs": [
    {
     "data": {
      "text/plain": [
       "Matrix([\n",
       "[cos(q5), -sin(q5),  0, 0],\n",
       "[      0,        0, -1, 0],\n",
       "[sin(q5),  cos(q5),  0, 0],\n",
       "[      0,        0,  0, 1]])"
      ]
     },
     "execution_count": 14,
     "metadata": {},
     "output_type": "execute_result"
    }
   ],
   "source": [
    "t45     = tf_matrix(alpha4, a4, d5, q5).subs(dh_table)\n",
    "t45"
   ]
  },
  {
   "cell_type": "code",
   "execution_count": 15,
   "metadata": {},
   "outputs": [
    {
     "data": {
      "text/plain": [
       "Matrix([\n",
       "[ cos(q6), -sin(q6), 0, 0],\n",
       "[       0,        0, 1, 0],\n",
       "[-sin(q6), -cos(q6), 0, 0],\n",
       "[       0,        0, 0, 1]])"
      ]
     },
     "execution_count": 15,
     "metadata": {},
     "output_type": "execute_result"
    }
   ],
   "source": [
    "t56     = tf_matrix(alpha5, a5, d6, q6).subs(dh_table)\n",
    "t56"
   ]
  },
  {
   "cell_type": "code",
   "execution_count": 16,
   "metadata": {},
   "outputs": [
    {
     "data": {
      "text/plain": [
       "Matrix([\n",
       "[1, 0, 0,     0],\n",
       "[0, 1, 0,     0],\n",
       "[0, 0, 1, 0.303],\n",
       "[0, 0, 0,     1]])"
      ]
     },
     "execution_count": 16,
     "metadata": {},
     "output_type": "execute_result"
    }
   ],
   "source": [
    "t6_ee   = tf_matrix(alpha6, a6, d7, q7).subs(dh_table)\n",
    "t6_ee"
   ]
  },
  {
   "cell_type": "code",
   "execution_count": 21,
   "metadata": {},
   "outputs": [
    {
     "data": {
      "text/plain": [
       "Matrix([\n",
       "[((sin(q1)*sin(q4) + sin(q2 + q3)*cos(q1)*cos(q4))*cos(q5) + sin(q5)*cos(q1)*cos(q2 + q3))*cos(q6) - (-sin(q1)*cos(q4) + sin(q4)*sin(q2 + q3)*cos(q1))*sin(q6), -((sin(q1)*sin(q4) + sin(q2 + q3)*cos(q1)*cos(q4))*cos(q5) + sin(q5)*cos(q1)*cos(q2 + q3))*sin(q6) - (-sin(q1)*cos(q4) + sin(q4)*sin(q2 + q3)*cos(q1))*cos(q6), -(sin(q1)*sin(q4) + sin(q2 + q3)*cos(q1)*cos(q4))*sin(q5) + cos(q1)*cos(q5)*cos(q2 + q3), -0.303*sin(q1)*sin(q4)*sin(q5) + 1.25*sin(q2)*cos(q1) - 0.303*sin(q5)*sin(q2 + q3)*cos(q1)*cos(q4) - 0.054*sin(q2 + q3)*cos(q1) + 0.303*cos(q1)*cos(q5)*cos(q2 + q3) + 1.5*cos(q1)*cos(q2 + q3) + 0.35*cos(q1)],\n",
       "[ ((sin(q1)*sin(q2 + q3)*cos(q4) - sin(q4)*cos(q1))*cos(q5) + sin(q1)*sin(q5)*cos(q2 + q3))*cos(q6) - (sin(q1)*sin(q4)*sin(q2 + q3) + cos(q1)*cos(q4))*sin(q6),  -((sin(q1)*sin(q2 + q3)*cos(q4) - sin(q4)*cos(q1))*cos(q5) + sin(q1)*sin(q5)*cos(q2 + q3))*sin(q6) - (sin(q1)*sin(q4)*sin(q2 + q3) + cos(q1)*cos(q4))*cos(q6), -(sin(q1)*sin(q2 + q3)*cos(q4) - sin(q4)*cos(q1))*sin(q5) + sin(q1)*cos(q5)*cos(q2 + q3),  1.25*sin(q1)*sin(q2) - 0.303*sin(q1)*sin(q5)*sin(q2 + q3)*cos(q4) - 0.054*sin(q1)*sin(q2 + q3) + 0.303*sin(q1)*cos(q5)*cos(q2 + q3) + 1.5*sin(q1)*cos(q2 + q3) + 0.35*sin(q1) + 0.303*sin(q4)*sin(q5)*cos(q1)],\n",
       "[                                                                (-sin(q5)*sin(q2 + q3) + cos(q4)*cos(q5)*cos(q2 + q3))*cos(q6) - sin(q4)*sin(q6)*cos(q2 + q3),                                                                 -(-sin(q5)*sin(q2 + q3) + cos(q4)*cos(q5)*cos(q2 + q3))*sin(q6) - sin(q4)*cos(q6)*cos(q2 + q3),                                   -(sin(q5)*cos(q4)*cos(q2 + q3) + sin(q2 + q3)*cos(q5)),                                                                                 -0.303*sin(q5)*cos(q4)*cos(q2 + q3) - 0.303*sin(q2 + q3)*cos(q5) - 1.5*sin(q2 + q3) + 1.25*cos(q2) - 0.054*cos(q2 + q3) + 0.75],\n",
       "[                                                                                                                                                            0,                                                                                                                                                              0,                                                                                        0,                                                                                                                                                                                                              1]])"
      ]
     },
     "execution_count": 21,
     "metadata": {},
     "output_type": "execute_result"
    }
   ],
   "source": [
    "t0_ee   = t01 * t12 * t23 * t34 * t45 * t56 * t6_ee\n",
    "t0_ee = trigsimp(t0_ee)\n",
    "t0_ee"
   ]
  }
 ],
 "metadata": {
  "kernelspec": {
   "display_name": "Python 2",
   "language": "python",
   "name": "python2"
  },
  "language_info": {
   "codemirror_mode": {
    "name": "ipython",
    "version": 2
   },
   "file_extension": ".py",
   "mimetype": "text/x-python",
   "name": "python",
   "nbconvert_exporter": "python",
   "pygments_lexer": "ipython2",
   "version": "2.7.10"
  }
 },
 "nbformat": 4,
 "nbformat_minor": 2
}
